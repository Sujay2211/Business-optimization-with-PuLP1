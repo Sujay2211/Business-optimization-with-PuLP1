{
 "cells": [
  {
   "cell_type": "code",
   "execution_count": 1,
   "id": "84b2a15d-1e35-4672-b09d-58cd6ec69d85",
   "metadata": {},
   "outputs": [
    {
     "name": "stdout",
     "output_type": "stream",
     "text": [
      "Collecting pulp\n",
      "  Downloading pulp-3.2.1-py3-none-any.whl.metadata (6.9 kB)\n",
      "Downloading pulp-3.2.1-py3-none-any.whl (16.4 MB)\n",
      "   ---------------------------------------- 0.0/16.4 MB ? eta -:--:--\n",
      "   - -------------------------------------- 0.8/16.4 MB 8.5 MB/s eta 0:00:02\n",
      "   -------- ------------------------------- 3.4/16.4 MB 11.9 MB/s eta 0:00:02\n",
      "   ----------------- ---------------------- 7.3/16.4 MB 14.6 MB/s eta 0:00:01\n",
      "   ------------------------------ --------- 12.6/16.4 MB 17.5 MB/s eta 0:00:01\n",
      "   -------------------------------------- - 15.7/16.4 MB 17.1 MB/s eta 0:00:01\n",
      "   ---------------------------------------- 16.4/16.4 MB 15.4 MB/s eta 0:00:00\n",
      "Installing collected packages: pulp\n",
      "Successfully installed pulp-3.2.1\n"
     ]
    }
   ],
   "source": [
    "!pip install pulp\n"
   ]
  },
  {
   "cell_type": "markdown",
   "id": "3ad2ba01-be9e-4d01-bdd9-a7d5a4cb3b39",
   "metadata": {},
   "source": [
    "# 🧮 Product Mix Optimization using Linear Programming (PuLP)\n",
    "\n",
    "## Business Problem\n",
    "A furniture company makes Tables and Chairs. Each table gives a profit of ₹2,500 and each chair ₹1,500.  \n",
    "Each table requires 10 units of wood and 7 labor hours.  \n",
    "Each chair requires 5 units of wood and 4 labor hours.\n",
    "\n",
    "### Resources Available:\n",
    "- Wood: 400 units  \n",
    "- Labor: 280 hours  \n",
    "\n",
    "**Objective:** Maximize total profit by deciding how many tables and chairs to produce.\n"
   ]
  },
  {
   "cell_type": "markdown",
   "id": "9aa029d1-46e0-47cf-b455-c6327d479421",
   "metadata": {},
   "source": [
    "## 📐 Mathematical Formulation\n",
    "\n",
    "Let:\n",
    "- x = number of Tables  \n",
    "- y = number of Chairs  \n",
    "\n",
    "### Objective:\n",
    "Maximize Profit:  \n",
    "**Profit = 2500x + 1500y**\n",
    "\n",
    "### Constraints:\n",
    "1. Wood: 10x + 5y ≤ 400  \n",
    "2. Labor: 7x + 4y ≤ 280  \n",
    "3. Non-Negativity: x ≥ 0, y ≥ 0\n"
   ]
  },
  {
   "cell_type": "code",
   "execution_count": 3,
   "id": "5a6808a1-c94d-4b56-884f-2c56d7d06b05",
   "metadata": {},
   "outputs": [
    {
     "name": "stderr",
     "output_type": "stream",
     "text": [
      "C:\\Anaconda\\Lib\\site-packages\\pulp\\pulp.py:1455: UserWarning: Spaces are not permitted in the name. Converted to '_'\n",
      "  warnings.warn(\"Spaces are not permitted in the name. Converted to '_'\")\n"
     ]
    }
   ],
   "source": [
    "from pulp import *\n",
    "\n",
    "# Create a problem instance\n",
    "model = LpProblem(\"Product Mix Optimization\", LpMaximize)\n"
   ]
  },
  {
   "cell_type": "code",
   "execution_count": 4,
   "id": "6c6c2d6b-184a-4433-8db8-b5d9221e1073",
   "metadata": {},
   "outputs": [],
   "source": [
    "# Define decision variables\n",
    "x = LpVariable(\"Tables\", lowBound=0, cat=\"Integer\")  # Number of Tables\n",
    "y = LpVariable(\"Chairs\", lowBound=0, cat=\"Integer\")  # Number of Chairs\n"
   ]
  },
  {
   "cell_type": "code",
   "execution_count": 5,
   "id": "6d91b096-cbce-4af1-89e4-e98fa55eb322",
   "metadata": {},
   "outputs": [],
   "source": [
    "# Objective function: Maximize profit\n",
    "model += 2500 * x + 1500 * y, \"Total Profit\"\n"
   ]
  },
  {
   "cell_type": "code",
   "execution_count": 6,
   "id": "28e1a122-2a9d-4b95-9860-3c274557eeaa",
   "metadata": {},
   "outputs": [],
   "source": [
    "# Constraints\n",
    "model += 10 * x + 5 * y <= 400, \"Wood Constraint\"\n",
    "model += 7 * x + 4 * y <= 280, \"Labor Constraint\"\n"
   ]
  },
  {
   "cell_type": "code",
   "execution_count": 7,
   "id": "9bd69db7-7c75-4653-b08a-6ea1ac58c6d3",
   "metadata": {},
   "outputs": [
    {
     "name": "stdout",
     "output_type": "stream",
     "text": [
      "Status: Optimal\n"
     ]
    }
   ],
   "source": [
    "# Solve the problem\n",
    "model.solve()\n",
    "\n",
    "# Print the status\n",
    "print(\"Status:\", LpStatus[model.status])\n"
   ]
  },
  {
   "cell_type": "code",
   "execution_count": 8,
   "id": "b9e3505e-1383-47ef-906e-e63a42ebe028",
   "metadata": {},
   "outputs": [
    {
     "name": "stdout",
     "output_type": "stream",
     "text": [
      "Tables to Produce: 0.0\n",
      "Chairs to Produce: 70.0\n",
      "Maximum Profit: ₹105000.0\n"
     ]
    }
   ],
   "source": [
    "# Display results\n",
    "print(f\"Tables to Produce: {x.varValue}\")\n",
    "print(f\"Chairs to Produce: {y.varValue}\")\n",
    "print(f\"Maximum Profit: ₹{value(model.objective)}\")\n"
   ]
  },
  {
   "cell_type": "markdown",
   "id": "c99583be-ba91-4e19-b695-c3503a612086",
   "metadata": {},
   "source": [
    "## 📊 Managerial Insights\n",
    "\n",
    "- The company should produce **X tables** and **Y chairs** to maximize profit.\n",
    "- This will yield a total profit of **₹Z**\n",
    "- If resources like wood or labor are increased, it could further improve profit.\n",
    "- Consider running a sensitivity analysis or comparing with fractional production.\n"
   ]
  },
  {
   "cell_type": "code",
   "execution_count": null,
   "id": "6f776084-f3f1-4019-9798-05fd7bfde599",
   "metadata": {},
   "outputs": [],
   "source": []
  }
 ],
 "metadata": {
  "kernelspec": {
   "display_name": "Python [conda env:base] *",
   "language": "python",
   "name": "conda-base-py"
  },
  "language_info": {
   "codemirror_mode": {
    "name": "ipython",
    "version": 3
   },
   "file_extension": ".py",
   "mimetype": "text/x-python",
   "name": "python",
   "nbconvert_exporter": "python",
   "pygments_lexer": "ipython3",
   "version": "3.12.7"
  }
 },
 "nbformat": 4,
 "nbformat_minor": 5
}
